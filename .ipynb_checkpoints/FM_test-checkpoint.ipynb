{
 "cells": [
  {
   "cell_type": "markdown",
   "id": "91885ab3-2d0a-4960-9f9d-1c87296d9f19",
   "metadata": {},
   "source": [
    "# Introduction\n",
    "\n",
    "This project will use a topological data analysis tool called Mapper to improve the quality of the data we feed into machine learning models. In this project, we will use a data set from a video game called Football Manager. The game is best described as a spreadsheet simulator where you manage a soccer team. The game is so detailed that some professional teams use its database as a tool in their scouting process. I did a project using multiple machine learning techniques, using the game's data to predict three questions. What is a player's Current Ability? What is a player's Potential Ability? Does a player play in a top-ten league? This project aims to use Mapper from Scikit-TDA's KMapper package to pick better quality features for machine learning rather than using all. We will be looking at 47 features known as the player's attributes in this case."
   ]
  },
  {
   "cell_type": "markdown",
   "id": "dac96889-3064-4c84-acad-1015dd26aa2c",
   "metadata": {},
   "source": [
    "# What is Mapper"
   ]
  },
  {
   "cell_type": "markdown",
   "id": "e97c4fcd-cc70-4b4a-ae5c-833ea8ed53c6",
   "metadata": {},
   "source": [
    "# Imports"
   ]
  },
  {
   "cell_type": "code",
   "execution_count": 1,
   "id": "d86b678a-bac9-4ef4-b988-d858329dc628",
   "metadata": {},
   "outputs": [],
   "source": [
    "import pandas as pd\n",
    "# matplotlib inline\n",
    "import matplotlib\n",
    "import sklearn\n",
    "from kmapper import jupyter\n",
    "import scipy\n",
    "\n",
    "# Import the class\n",
    "import kmapper as km\n",
    "import numpy as np\n",
    "from sklearn import ensemble"
   ]
  },
  {
   "cell_type": "markdown",
   "id": "ebcc63e6-c852-4d13-901f-e1f958b3a684",
   "metadata": {},
   "source": [
    "# Read and clean data"
   ]
  },
  {
   "cell_type": "code",
   "execution_count": 2,
   "id": "e15e79fd-330a-4cac-9fa0-834c7d5f3604",
   "metadata": {},
   "outputs": [
    {
     "data": {
      "text/html": [
       "<div>\n",
       "<style scoped>\n",
       "    .dataframe tbody tr th:only-of-type {\n",
       "        vertical-align: middle;\n",
       "    }\n",
       "\n",
       "    .dataframe tbody tr th {\n",
       "        vertical-align: top;\n",
       "    }\n",
       "\n",
       "    .dataframe thead th {\n",
       "        text-align: right;\n",
       "    }\n",
       "</style>\n",
       "<table border=\"1\" class=\"dataframe\">\n",
       "  <thead>\n",
       "    <tr style=\"text-align: right;\">\n",
       "      <th></th>\n",
       "      <th>Name</th>\n",
       "      <th>Position</th>\n",
       "      <th>Club</th>\n",
       "      <th>Division</th>\n",
       "      <th>Based</th>\n",
       "      <th>Nation</th>\n",
       "      <th>Height</th>\n",
       "      <th>Weight</th>\n",
       "      <th>Age</th>\n",
       "      <th>Preferred Foot</th>\n",
       "      <th>...</th>\n",
       "      <th>Cmp</th>\n",
       "      <th>Com</th>\n",
       "      <th>Cmd</th>\n",
       "      <th>Bra</th>\n",
       "      <th>Bal</th>\n",
       "      <th>Ant</th>\n",
       "      <th>Agi</th>\n",
       "      <th>Agg</th>\n",
       "      <th>Aer</th>\n",
       "      <th>Acc</th>\n",
       "    </tr>\n",
       "  </thead>\n",
       "  <tbody>\n",
       "    <tr>\n",
       "      <th>0</th>\n",
       "      <td>Lionel Messi</td>\n",
       "      <td>AM (RC), ST (C)</td>\n",
       "      <td>Barcelona</td>\n",
       "      <td>Spanish First Division</td>\n",
       "      <td>Spain (First Division)</td>\n",
       "      <td>ARG</td>\n",
       "      <td>170</td>\n",
       "      <td>72</td>\n",
       "      <td>32</td>\n",
       "      <td>Left</td>\n",
       "      <td>...</td>\n",
       "      <td>18</td>\n",
       "      <td>2</td>\n",
       "      <td>2</td>\n",
       "      <td>10</td>\n",
       "      <td>19</td>\n",
       "      <td>19</td>\n",
       "      <td>19</td>\n",
       "      <td>7</td>\n",
       "      <td>2</td>\n",
       "      <td>18</td>\n",
       "    </tr>\n",
       "    <tr>\n",
       "      <th>1</th>\n",
       "      <td>Cristiano Ronaldo</td>\n",
       "      <td>AM (RL), ST (C)</td>\n",
       "      <td>Juventus</td>\n",
       "      <td>Italian Serie A</td>\n",
       "      <td>Italy (Serie A)</td>\n",
       "      <td>POR</td>\n",
       "      <td>185</td>\n",
       "      <td>83</td>\n",
       "      <td>34</td>\n",
       "      <td>Either</td>\n",
       "      <td>...</td>\n",
       "      <td>14</td>\n",
       "      <td>4</td>\n",
       "      <td>1</td>\n",
       "      <td>16</td>\n",
       "      <td>14</td>\n",
       "      <td>18</td>\n",
       "      <td>13</td>\n",
       "      <td>6</td>\n",
       "      <td>2</td>\n",
       "      <td>15</td>\n",
       "    </tr>\n",
       "    <tr>\n",
       "      <th>2</th>\n",
       "      <td>Kylian MbappÃ©</td>\n",
       "      <td>AM (RL), ST (C)</td>\n",
       "      <td>Paris SG</td>\n",
       "      <td>Ligue 1 Conforama</td>\n",
       "      <td>France (Ligue 1 Conforama)</td>\n",
       "      <td>FRA</td>\n",
       "      <td>178</td>\n",
       "      <td>73</td>\n",
       "      <td>20</td>\n",
       "      <td>Right</td>\n",
       "      <td>...</td>\n",
       "      <td>18</td>\n",
       "      <td>2</td>\n",
       "      <td>1</td>\n",
       "      <td>12</td>\n",
       "      <td>14</td>\n",
       "      <td>17</td>\n",
       "      <td>16</td>\n",
       "      <td>6</td>\n",
       "      <td>4</td>\n",
       "      <td>20</td>\n",
       "    </tr>\n",
       "    <tr>\n",
       "      <th>3</th>\n",
       "      <td>Manuel Neuer</td>\n",
       "      <td>GK</td>\n",
       "      <td>FC Bayern</td>\n",
       "      <td>Bundesliga</td>\n",
       "      <td>Germany (Bundesliga)</td>\n",
       "      <td>GER</td>\n",
       "      <td>192</td>\n",
       "      <td>90</td>\n",
       "      <td>33</td>\n",
       "      <td>Either</td>\n",
       "      <td>...</td>\n",
       "      <td>20</td>\n",
       "      <td>12</td>\n",
       "      <td>17</td>\n",
       "      <td>14</td>\n",
       "      <td>14</td>\n",
       "      <td>19</td>\n",
       "      <td>15</td>\n",
       "      <td>8</td>\n",
       "      <td>14</td>\n",
       "      <td>13</td>\n",
       "    </tr>\n",
       "    <tr>\n",
       "      <th>4</th>\n",
       "      <td>Neymar</td>\n",
       "      <td>M (L), AM (LC), ST (C)</td>\n",
       "      <td>Paris SG</td>\n",
       "      <td>Ligue 1 Conforama</td>\n",
       "      <td>France (Ligue 1 Conforama)</td>\n",
       "      <td>BRA</td>\n",
       "      <td>175</td>\n",
       "      <td>68</td>\n",
       "      <td>27</td>\n",
       "      <td>Right</td>\n",
       "      <td>...</td>\n",
       "      <td>17</td>\n",
       "      <td>3</td>\n",
       "      <td>1</td>\n",
       "      <td>14</td>\n",
       "      <td>14</td>\n",
       "      <td>16</td>\n",
       "      <td>18</td>\n",
       "      <td>10</td>\n",
       "      <td>4</td>\n",
       "      <td>17</td>\n",
       "    </tr>\n",
       "    <tr>\n",
       "      <th>...</th>\n",
       "      <td>...</td>\n",
       "      <td>...</td>\n",
       "      <td>...</td>\n",
       "      <td>...</td>\n",
       "      <td>...</td>\n",
       "      <td>...</td>\n",
       "      <td>...</td>\n",
       "      <td>...</td>\n",
       "      <td>...</td>\n",
       "      <td>...</td>\n",
       "      <td>...</td>\n",
       "      <td>...</td>\n",
       "      <td>...</td>\n",
       "      <td>...</td>\n",
       "      <td>...</td>\n",
       "      <td>...</td>\n",
       "      <td>...</td>\n",
       "      <td>...</td>\n",
       "      <td>...</td>\n",
       "      <td>...</td>\n",
       "      <td>...</td>\n",
       "    </tr>\n",
       "    <tr>\n",
       "      <th>144745</th>\n",
       "      <td>Yuan Jinxing</td>\n",
       "      <td>ST (C)</td>\n",
       "      <td>Unknown</td>\n",
       "      <td>Unknown</td>\n",
       "      <td>China</td>\n",
       "      <td>CHN</td>\n",
       "      <td>169</td>\n",
       "      <td>81</td>\n",
       "      <td>41</td>\n",
       "      <td>Right Only</td>\n",
       "      <td>...</td>\n",
       "      <td>7</td>\n",
       "      <td>3</td>\n",
       "      <td>3</td>\n",
       "      <td>2</td>\n",
       "      <td>3</td>\n",
       "      <td>9</td>\n",
       "      <td>8</td>\n",
       "      <td>8</td>\n",
       "      <td>1</td>\n",
       "      <td>11</td>\n",
       "    </tr>\n",
       "    <tr>\n",
       "      <th>144746</th>\n",
       "      <td>Aizudin Abdul Rahman</td>\n",
       "      <td>M (C)</td>\n",
       "      <td>BSRC</td>\n",
       "      <td>Bruneian Premier League</td>\n",
       "      <td>Brunei (Premier League)</td>\n",
       "      <td>BRU</td>\n",
       "      <td>180</td>\n",
       "      <td>69</td>\n",
       "      <td>24</td>\n",
       "      <td>Right Only</td>\n",
       "      <td>...</td>\n",
       "      <td>4</td>\n",
       "      <td>1</td>\n",
       "      <td>3</td>\n",
       "      <td>1</td>\n",
       "      <td>3</td>\n",
       "      <td>4</td>\n",
       "      <td>9</td>\n",
       "      <td>14</td>\n",
       "      <td>2</td>\n",
       "      <td>9</td>\n",
       "    </tr>\n",
       "    <tr>\n",
       "      <th>144747</th>\n",
       "      <td>Berlin Jean-Gilles</td>\n",
       "      <td>ST (C)</td>\n",
       "      <td>CS Monteuil</td>\n",
       "      <td>PremiÃ¨re Ligue de soccer du QuÃ©bec</td>\n",
       "      <td>Canada (PLSQ)</td>\n",
       "      <td>HAI</td>\n",
       "      <td>180</td>\n",
       "      <td>79</td>\n",
       "      <td>32</td>\n",
       "      <td>Right Only</td>\n",
       "      <td>...</td>\n",
       "      <td>8</td>\n",
       "      <td>3</td>\n",
       "      <td>1</td>\n",
       "      <td>1</td>\n",
       "      <td>2</td>\n",
       "      <td>4</td>\n",
       "      <td>10</td>\n",
       "      <td>6</td>\n",
       "      <td>3</td>\n",
       "      <td>11</td>\n",
       "    </tr>\n",
       "    <tr>\n",
       "      <th>144748</th>\n",
       "      <td>Frederik van Hauen</td>\n",
       "      <td>M (C)</td>\n",
       "      <td>Skovshoved</td>\n",
       "      <td>2. Division</td>\n",
       "      <td>Denmark (2. Division)</td>\n",
       "      <td>DEN</td>\n",
       "      <td>195</td>\n",
       "      <td>85</td>\n",
       "      <td>19</td>\n",
       "      <td>Right Only</td>\n",
       "      <td>...</td>\n",
       "      <td>3</td>\n",
       "      <td>3</td>\n",
       "      <td>3</td>\n",
       "      <td>3</td>\n",
       "      <td>4</td>\n",
       "      <td>4</td>\n",
       "      <td>3</td>\n",
       "      <td>16</td>\n",
       "      <td>1</td>\n",
       "      <td>5</td>\n",
       "    </tr>\n",
       "    <tr>\n",
       "      <th>144749</th>\n",
       "      <td>Hui Kim Yeung</td>\n",
       "      <td>M (C)</td>\n",
       "      <td>Freemen</td>\n",
       "      <td>Hong Kong Lower Division</td>\n",
       "      <td>Hong Kong (China PR) (Lower Division)</td>\n",
       "      <td>HKG</td>\n",
       "      <td>172</td>\n",
       "      <td>65</td>\n",
       "      <td>24</td>\n",
       "      <td>Right Only</td>\n",
       "      <td>...</td>\n",
       "      <td>8</td>\n",
       "      <td>3</td>\n",
       "      <td>2</td>\n",
       "      <td>1</td>\n",
       "      <td>4</td>\n",
       "      <td>2</td>\n",
       "      <td>12</td>\n",
       "      <td>16</td>\n",
       "      <td>2</td>\n",
       "      <td>13</td>\n",
       "    </tr>\n",
       "  </tbody>\n",
       "</table>\n",
       "<p>144750 rows × 63 columns</p>\n",
       "</div>"
      ],
      "text/plain": [
       "                        Name                Position         Club  \\\n",
       "0               Lionel Messi         AM (RC), ST (C)    Barcelona   \n",
       "1          Cristiano Ronaldo         AM (RL), ST (C)     Juventus   \n",
       "2             Kylian MbappÃ©         AM (RL), ST (C)     Paris SG   \n",
       "3               Manuel Neuer                      GK    FC Bayern   \n",
       "4                     Neymar  M (L), AM (LC), ST (C)     Paris SG   \n",
       "...                      ...                     ...          ...   \n",
       "144745          Yuan Jinxing                  ST (C)      Unknown   \n",
       "144746  Aizudin Abdul Rahman                   M (C)         BSRC   \n",
       "144747    Berlin Jean-Gilles                  ST (C)  CS Monteuil   \n",
       "144748    Frederik van Hauen                   M (C)   Skovshoved   \n",
       "144749         Hui Kim Yeung                   M (C)      Freemen   \n",
       "\n",
       "                                    Division  \\\n",
       "0                     Spanish First Division   \n",
       "1                            Italian Serie A   \n",
       "2                          Ligue 1 Conforama   \n",
       "3                                 Bundesliga   \n",
       "4                          Ligue 1 Conforama   \n",
       "...                                      ...   \n",
       "144745                               Unknown   \n",
       "144746               Bruneian Premier League   \n",
       "144747  PremiÃ¨re Ligue de soccer du QuÃ©bec   \n",
       "144748                           2. Division   \n",
       "144749              Hong Kong Lower Division   \n",
       "\n",
       "                                        Based Nation  Height  Weight  Age  \\\n",
       "0                      Spain (First Division)    ARG     170      72   32   \n",
       "1                             Italy (Serie A)    POR     185      83   34   \n",
       "2                  France (Ligue 1 Conforama)    FRA     178      73   20   \n",
       "3                        Germany (Bundesliga)    GER     192      90   33   \n",
       "4                  France (Ligue 1 Conforama)    BRA     175      68   27   \n",
       "...                                       ...    ...     ...     ...  ...   \n",
       "144745                                  China    CHN     169      81   41   \n",
       "144746                Brunei (Premier League)    BRU     180      69   24   \n",
       "144747                          Canada (PLSQ)    HAI     180      79   32   \n",
       "144748                  Denmark (2. Division)    DEN     195      85   19   \n",
       "144749  Hong Kong (China PR) (Lower Division)    HKG     172      65   24   \n",
       "\n",
       "       Preferred Foot  ... Cmp Com  Cmd  Bra  Bal  Ant  Agi  Agg  Aer  Acc  \n",
       "0                Left  ...  18   2    2   10   19   19   19    7    2   18  \n",
       "1              Either  ...  14   4    1   16   14   18   13    6    2   15  \n",
       "2               Right  ...  18   2    1   12   14   17   16    6    4   20  \n",
       "3              Either  ...  20  12   17   14   14   19   15    8   14   13  \n",
       "4               Right  ...  17   3    1   14   14   16   18   10    4   17  \n",
       "...               ...  ...  ..  ..  ...  ...  ...  ...  ...  ...  ...  ...  \n",
       "144745     Right Only  ...   7   3    3    2    3    9    8    8    1   11  \n",
       "144746     Right Only  ...   4   1    3    1    3    4    9   14    2    9  \n",
       "144747     Right Only  ...   8   3    1    1    2    4   10    6    3   11  \n",
       "144748     Right Only  ...   3   3    3    3    4    4    3   16    1    5  \n",
       "144749     Right Only  ...   8   3    2    1    4    2   12   16    2   13  \n",
       "\n",
       "[144750 rows x 63 columns]"
      ]
     },
     "execution_count": 2,
     "metadata": {},
     "output_type": "execute_result"
    }
   ],
   "source": [
    "df = pd.read_csv('test.csv')\n",
    "df"
   ]
  },
  {
   "cell_type": "markdown",
   "id": "c55e49c0-366b-4b47-9871-421a23688c84",
   "metadata": {},
   "source": [
    "Arbitrary top ten leagues based on internet lists"
   ]
  },
  {
   "cell_type": "code",
   "execution_count": 3,
   "id": "ff1ea717-b138-46f8-b781-139ad550dea8",
   "metadata": {},
   "outputs": [],
   "source": [
    "top_10_leagues = ['Spanish First Division', 'Italian Serie A', 'Ligue 1 Conforama', 'Bundesliga', 'English Premier Division',\n",
    "              'Argentine Premier Di/vision', 'Brazilian National First Division', 'Eredivisie', 'Turkish Super League',\n",
    "              'Portuguese Premier League']\n",
    "df['top_league'] = np.where(df['Division'].isin(top_10_leagues), 1, 0)"
   ]
  },
  {
   "cell_type": "markdown",
   "id": "220ae9e6-65c6-4bd0-a152-2de6b2921cb1",
   "metadata": {},
   "source": [
    "# Visualization of Dependent Variables"
   ]
  },
  {
   "cell_type": "code",
   "execution_count": 4,
   "id": "456b13f3",
   "metadata": {},
   "outputs": [
    {
     "data": {
      "image/png": "[encoded data removed]",
      "text/plain": [
       "<Figure size 432x288 with 1 Axes>"
      ]
     },
     "metadata": {
      "needs_background": "light"
     },
     "output_type": "display_data"
    },
    {
     "data": {
      "image/png": "[encoded data removed]",
      "text/plain": [
       "<Figure size 432x288 with 1 Axes>"
      ]
     },
     "metadata": {
      "needs_background": "light"
     },
     "output_type": "display_data"
    },
    {
     "data": {
      "image/png": "[encoded data removed]",
      "text/plain": [
       "<Figure size 432x288 with 1 Axes>"
      ]
     },
     "metadata": {
      "needs_background": "light"
     },
     "output_type": "display_data"
    },
    {
     "data": {
      "image/png": "[encoded data removed]",
      "text/plain": [
       "<Figure size 432x288 with 1 Axes>"
      ]
     },
     "metadata": {
      "needs_background": "light"
     },
     "output_type": "display_data"
    }
   ],
   "source": [
    "ax = df[['CA', 'PA']].plot.hist(bins=20, alpha=0.5)\n",
    "ax = df[['CA']].plot.hist(bins=20)\n",
    "ax = df[['PA']].plot.hist(bins=20)\n",
    "ax = df[['top_league']].plot.hist()"
   ]
  },
  {
   "cell_type": "markdown",
   "id": "67adc27e-e8cd-4832-866b-6d099521d998",
   "metadata": {},
   "source": [
    "# Histogram Observations\n",
    "\n",
    "- Potential Ability on average is higher than Current Ability which makes sense because a players Potential Ability would be higher than their starting Current Ability.\n",
    "- Next both Potential Ability and Current ability is close to a Normal distribution, however it is not quite as evenly distributed\n",
    "- Whether or not a Player is in a top-ten league is a Binomial distribution of 1s and 0s with the vast majority of the players not in the top-ten leagues"
   ]
  },
  {
   "cell_type": "markdown",
   "id": "63cf9f48-6044-4333-a0f8-c93807b410a1",
   "metadata": {},
   "source": [
    "# Get just Relavent Data"
   ]
  },
  {
   "cell_type": "code",
   "execution_count": 5,
   "id": "d2f935e8-86a7-473d-b82f-776cc62178c0",
   "metadata": {},
   "outputs": [
    {
     "data": {
      "text/html": [
       "<div>\n",
       "<style scoped>\n",
       "    .dataframe tbody tr th:only-of-type {\n",
       "        vertical-align: middle;\n",
       "    }\n",
       "\n",
       "    .dataframe tbody tr th {\n",
       "        vertical-align: top;\n",
       "    }\n",
       "\n",
       "    .dataframe thead th {\n",
       "        text-align: right;\n",
       "    }\n",
       "</style>\n",
       "<table border=\"1\" class=\"dataframe\">\n",
       "  <thead>\n",
       "    <tr style=\"text-align: right;\">\n",
       "      <th></th>\n",
       "      <th>CA</th>\n",
       "      <th>PA</th>\n",
       "      <th>Wor</th>\n",
       "      <th>Vis</th>\n",
       "      <th>Thr</th>\n",
       "      <th>Tec</th>\n",
       "      <th>Tea</th>\n",
       "      <th>Tck</th>\n",
       "      <th>Str</th>\n",
       "      <th>Sta</th>\n",
       "      <th>...</th>\n",
       "      <th>Com</th>\n",
       "      <th>Cmd</th>\n",
       "      <th>Bra</th>\n",
       "      <th>Bal</th>\n",
       "      <th>Ant</th>\n",
       "      <th>Agi</th>\n",
       "      <th>Agg</th>\n",
       "      <th>Aer</th>\n",
       "      <th>Acc</th>\n",
       "      <th>top_league</th>\n",
       "    </tr>\n",
       "  </thead>\n",
       "  <tbody>\n",
       "    <tr>\n",
       "      <th>0</th>\n",
       "      <td>195</td>\n",
       "      <td>200</td>\n",
       "      <td>7</td>\n",
       "      <td>20</td>\n",
       "      <td>2</td>\n",
       "      <td>20</td>\n",
       "      <td>14</td>\n",
       "      <td>7</td>\n",
       "      <td>9</td>\n",
       "      <td>13</td>\n",
       "      <td>...</td>\n",
       "      <td>2</td>\n",
       "      <td>2</td>\n",
       "      <td>10</td>\n",
       "      <td>19</td>\n",
       "      <td>19</td>\n",
       "      <td>19</td>\n",
       "      <td>7</td>\n",
       "      <td>2</td>\n",
       "      <td>18</td>\n",
       "      <td>1</td>\n",
       "    </tr>\n",
       "    <tr>\n",
       "      <th>1</th>\n",
       "      <td>195</td>\n",
       "      <td>196</td>\n",
       "      <td>10</td>\n",
       "      <td>14</td>\n",
       "      <td>2</td>\n",
       "      <td>17</td>\n",
       "      <td>10</td>\n",
       "      <td>8</td>\n",
       "      <td>16</td>\n",
       "      <td>15</td>\n",
       "      <td>...</td>\n",
       "      <td>4</td>\n",
       "      <td>1</td>\n",
       "      <td>16</td>\n",
       "      <td>14</td>\n",
       "      <td>18</td>\n",
       "      <td>13</td>\n",
       "      <td>6</td>\n",
       "      <td>2</td>\n",
       "      <td>15</td>\n",
       "      <td>1</td>\n",
       "    </tr>\n",
       "    <tr>\n",
       "      <th>2</th>\n",
       "      <td>181</td>\n",
       "      <td>196</td>\n",
       "      <td>10</td>\n",
       "      <td>13</td>\n",
       "      <td>1</td>\n",
       "      <td>17</td>\n",
       "      <td>10</td>\n",
       "      <td>2</td>\n",
       "      <td>11</td>\n",
       "      <td>14</td>\n",
       "      <td>...</td>\n",
       "      <td>2</td>\n",
       "      <td>1</td>\n",
       "      <td>12</td>\n",
       "      <td>14</td>\n",
       "      <td>17</td>\n",
       "      <td>16</td>\n",
       "      <td>6</td>\n",
       "      <td>4</td>\n",
       "      <td>20</td>\n",
       "      <td>1</td>\n",
       "    </tr>\n",
       "    <tr>\n",
       "      <th>3</th>\n",
       "      <td>176</td>\n",
       "      <td>193</td>\n",
       "      <td>14</td>\n",
       "      <td>12</td>\n",
       "      <td>19</td>\n",
       "      <td>12</td>\n",
       "      <td>18</td>\n",
       "      <td>3</td>\n",
       "      <td>16</td>\n",
       "      <td>10</td>\n",
       "      <td>...</td>\n",
       "      <td>12</td>\n",
       "      <td>17</td>\n",
       "      <td>14</td>\n",
       "      <td>14</td>\n",
       "      <td>19</td>\n",
       "      <td>15</td>\n",
       "      <td>8</td>\n",
       "      <td>14</td>\n",
       "      <td>13</td>\n",
       "      <td>1</td>\n",
       "    </tr>\n",
       "    <tr>\n",
       "      <th>4</th>\n",
       "      <td>186</td>\n",
       "      <td>190</td>\n",
       "      <td>10</td>\n",
       "      <td>16</td>\n",
       "      <td>1</td>\n",
       "      <td>20</td>\n",
       "      <td>8</td>\n",
       "      <td>1</td>\n",
       "      <td>10</td>\n",
       "      <td>13</td>\n",
       "      <td>...</td>\n",
       "      <td>3</td>\n",
       "      <td>1</td>\n",
       "      <td>14</td>\n",
       "      <td>14</td>\n",
       "      <td>16</td>\n",
       "      <td>18</td>\n",
       "      <td>10</td>\n",
       "      <td>4</td>\n",
       "      <td>17</td>\n",
       "      <td>1</td>\n",
       "    </tr>\n",
       "    <tr>\n",
       "      <th>...</th>\n",
       "      <td>...</td>\n",
       "      <td>...</td>\n",
       "      <td>...</td>\n",
       "      <td>...</td>\n",
       "      <td>...</td>\n",
       "      <td>...</td>\n",
       "      <td>...</td>\n",
       "      <td>...</td>\n",
       "      <td>...</td>\n",
       "      <td>...</td>\n",
       "      <td>...</td>\n",
       "      <td>...</td>\n",
       "      <td>...</td>\n",
       "      <td>...</td>\n",
       "      <td>...</td>\n",
       "      <td>...</td>\n",
       "      <td>...</td>\n",
       "      <td>...</td>\n",
       "      <td>...</td>\n",
       "      <td>...</td>\n",
       "      <td>...</td>\n",
       "    </tr>\n",
       "    <tr>\n",
       "      <th>144745</th>\n",
       "      <td>3</td>\n",
       "      <td>3</td>\n",
       "      <td>3</td>\n",
       "      <td>1</td>\n",
       "      <td>4</td>\n",
       "      <td>6</td>\n",
       "      <td>2</td>\n",
       "      <td>1</td>\n",
       "      <td>1</td>\n",
       "      <td>6</td>\n",
       "      <td>...</td>\n",
       "      <td>3</td>\n",
       "      <td>3</td>\n",
       "      <td>2</td>\n",
       "      <td>3</td>\n",
       "      <td>9</td>\n",
       "      <td>8</td>\n",
       "      <td>8</td>\n",
       "      <td>1</td>\n",
       "      <td>11</td>\n",
       "      <td>0</td>\n",
       "    </tr>\n",
       "    <tr>\n",
       "      <th>144746</th>\n",
       "      <td>2</td>\n",
       "      <td>2</td>\n",
       "      <td>9</td>\n",
       "      <td>4</td>\n",
       "      <td>3</td>\n",
       "      <td>5</td>\n",
       "      <td>5</td>\n",
       "      <td>4</td>\n",
       "      <td>3</td>\n",
       "      <td>5</td>\n",
       "      <td>...</td>\n",
       "      <td>1</td>\n",
       "      <td>3</td>\n",
       "      <td>1</td>\n",
       "      <td>3</td>\n",
       "      <td>4</td>\n",
       "      <td>9</td>\n",
       "      <td>14</td>\n",
       "      <td>2</td>\n",
       "      <td>9</td>\n",
       "      <td>0</td>\n",
       "    </tr>\n",
       "    <tr>\n",
       "      <th>144747</th>\n",
       "      <td>2</td>\n",
       "      <td>2</td>\n",
       "      <td>2</td>\n",
       "      <td>1</td>\n",
       "      <td>3</td>\n",
       "      <td>1</td>\n",
       "      <td>1</td>\n",
       "      <td>1</td>\n",
       "      <td>2</td>\n",
       "      <td>7</td>\n",
       "      <td>...</td>\n",
       "      <td>3</td>\n",
       "      <td>1</td>\n",
       "      <td>1</td>\n",
       "      <td>2</td>\n",
       "      <td>4</td>\n",
       "      <td>10</td>\n",
       "      <td>6</td>\n",
       "      <td>3</td>\n",
       "      <td>11</td>\n",
       "      <td>0</td>\n",
       "    </tr>\n",
       "    <tr>\n",
       "      <th>144748</th>\n",
       "      <td>1</td>\n",
       "      <td>2</td>\n",
       "      <td>8</td>\n",
       "      <td>7</td>\n",
       "      <td>2</td>\n",
       "      <td>8</td>\n",
       "      <td>6</td>\n",
       "      <td>4</td>\n",
       "      <td>6</td>\n",
       "      <td>4</td>\n",
       "      <td>...</td>\n",
       "      <td>3</td>\n",
       "      <td>3</td>\n",
       "      <td>3</td>\n",
       "      <td>4</td>\n",
       "      <td>4</td>\n",
       "      <td>3</td>\n",
       "      <td>16</td>\n",
       "      <td>1</td>\n",
       "      <td>5</td>\n",
       "      <td>0</td>\n",
       "    </tr>\n",
       "    <tr>\n",
       "      <th>144749</th>\n",
       "      <td>1</td>\n",
       "      <td>2</td>\n",
       "      <td>10</td>\n",
       "      <td>2</td>\n",
       "      <td>3</td>\n",
       "      <td>3</td>\n",
       "      <td>5</td>\n",
       "      <td>3</td>\n",
       "      <td>3</td>\n",
       "      <td>6</td>\n",
       "      <td>...</td>\n",
       "      <td>3</td>\n",
       "      <td>2</td>\n",
       "      <td>1</td>\n",
       "      <td>4</td>\n",
       "      <td>2</td>\n",
       "      <td>12</td>\n",
       "      <td>16</td>\n",
       "      <td>2</td>\n",
       "      <td>13</td>\n",
       "      <td>0</td>\n",
       "    </tr>\n",
       "  </tbody>\n",
       "</table>\n",
       "<p>144750 rows × 50 columns</p>\n",
       "</div>"
      ],
      "text/plain": [
       "         CA   PA  Wor  Vis  Thr  Tec  Tea  Tck  Str  Sta  ...  Com  Cmd  Bra  \\\n",
       "0       195  200    7   20    2   20   14    7    9   13  ...    2    2   10   \n",
       "1       195  196   10   14    2   17   10    8   16   15  ...    4    1   16   \n",
       "2       181  196   10   13    1   17   10    2   11   14  ...    2    1   12   \n",
       "3       176  193   14   12   19   12   18    3   16   10  ...   12   17   14   \n",
       "4       186  190   10   16    1   20    8    1   10   13  ...    3    1   14   \n",
       "...     ...  ...  ...  ...  ...  ...  ...  ...  ...  ...  ...  ...  ...  ...   \n",
       "144745    3    3    3    1    4    6    2    1    1    6  ...    3    3    2   \n",
       "144746    2    2    9    4    3    5    5    4    3    5  ...    1    3    1   \n",
       "144747    2    2    2    1    3    1    1    1    2    7  ...    3    1    1   \n",
       "144748    1    2    8    7    2    8    6    4    6    4  ...    3    3    3   \n",
       "144749    1    2   10    2    3    3    5    3    3    6  ...    3    2    1   \n",
       "\n",
       "        Bal  Ant  Agi  Agg  Aer  Acc  top_league  \n",
       "0        19   19   19    7    2   18           1  \n",
       "1        14   18   13    6    2   15           1  \n",
       "2        14   17   16    6    4   20           1  \n",
       "3        14   19   15    8   14   13           1  \n",
       "4        14   16   18   10    4   17           1  \n",
       "...     ...  ...  ...  ...  ...  ...         ...  \n",
       "144745    3    9    8    8    1   11           0  \n",
       "144746    3    4    9   14    2    9           0  \n",
       "144747    2    4   10    6    3   11           0  \n",
       "144748    4    4    3   16    1    5           0  \n",
       "144749    4    2   12   16    2   13           0  \n",
       "\n",
       "[144750 rows x 50 columns]"
      ]
     },
     "execution_count": 5,
     "metadata": {},
     "output_type": "execute_result"
    }
   ],
   "source": [
    "numerics = ['int16', 'int32', 'int64', 'float16', 'float32', 'float64']\n",
    "\n",
    "newdf = df.select_dtypes(include=numerics).copy()\n",
    "newdf.drop(['Height', 'Weight', 'Age', 'Value', 'Wage'], axis=1, inplace=True)\n",
    "'''\n",
    "Height    int64\n",
    "Weight    int64\n",
    "Age       int64\n",
    "Value     int64\n",
    "Wage      int64\n",
    "'''\n",
    "newdf"
   ]
  },
  {
   "cell_type": "code",
   "execution_count": 6,
   "id": "22fa2cd3-6481-42f7-84c0-bad80d75c9fa",
   "metadata": {},
   "outputs": [
    {
     "data": {
      "text/plain": [
       "Index(['CA', 'PA', 'Wor', 'Vis', 'Thr', 'Tec', 'Tea', 'Tck', 'Str', 'Sta',\n",
       "       'TRO', 'Ref', 'Pun', 'Pos', 'Pen', 'Pas', 'Pac', '1v1', 'OtB', 'Nat',\n",
       "       'Mar', 'L Th', 'Lon', 'Ldr', 'Kic', 'Jum', 'Hea', 'Han', 'Fre', 'Fla',\n",
       "       'Fir', 'Fin', 'Ecc', 'Dri', 'Det', 'Dec', 'Cro', 'Cor', 'Cnt', 'Cmp',\n",
       "       'Com', 'Cmd', 'Bra', 'Bal', 'Ant', 'Agi', 'Agg', 'Aer', 'Acc',\n",
       "       'top_league'],\n",
       "      dtype='object')"
      ]
     },
     "execution_count": 6,
     "metadata": {},
     "output_type": "execute_result"
    }
   ],
   "source": [
    "newdf.columns"
   ]
  },
  {
   "cell_type": "code",
   "execution_count": 7,
   "id": "a87b946d",
   "metadata": {},
   "outputs": [],
   "source": [
    "work_rate = newdf['L Th'].to_numpy()"
   ]
  },
  {
   "cell_type": "markdown",
   "id": "5cc14454-d553-4173-b54e-dc4077398dc5",
   "metadata": {},
   "source": [
    "# Create Sample Data Set to Analyze"
   ]
  },
  {
   "cell_type": "markdown",
   "id": "1b834ecd-92cf-4140-a6f5-f6f2ba21299a",
   "metadata": {},
   "source": [
    "## Pandas Sample"
   ]
  },
  {
   "cell_type": "code",
   "execution_count": 8,
   "id": "81219057-3c0f-48f5-b87c-12b4cff8a7b8",
   "metadata": {},
   "outputs": [
    {
     "data": {
      "text/plain": [
       "array([[12, 13,  1, ..., 13,  4,  9],\n",
       "       [ 6,  1,  2, ..., 16,  1, 13],\n",
       "       [12,  7,  4, ...,  9,  1, 15],\n",
       "       ...,\n",
       "       [ 8,  5,  3, ...,  9,  3, 13],\n",
       "       [12,  9,  2, ...,  8,  3,  8],\n",
       "       [11, 13,  3, ..., 12,  1, 16]], dtype=int64)"
      ]
     },
     "execution_count": 8,
     "metadata": {},
     "output_type": "execute_result"
    }
   ],
   "source": [
    "sample_df = newdf.sample(72375, random_state=5)\n",
    "ind_df = sample_df.drop(columns=['CA', 'PA', 'top_league'])\n",
    "data = ind_df.to_numpy()\n",
    "data"
   ]
  },
  {
   "cell_type": "markdown",
   "id": "14a8ed29-359b-44dc-974a-f191ee3f10e5",
   "metadata": {},
   "source": [
    "## Special Stratified Sample"
   ]
  },
  {
   "cell_type": "code",
   "execution_count": 9,
   "id": "06b3a961",
   "metadata": {},
   "outputs": [],
   "source": [
    "def stratified_sample_df(df, col, n_samples_frac):\n",
    "    return df.groupby(col, group_keys=False).apply(lambda x: x.sample(frac=n_samples_frac, random_state=5))"
   ]
  },
  {
   "cell_type": "code",
   "execution_count": 11,
   "id": "3a737993",
   "metadata": {},
   "outputs": [
    {
     "name": "stdout",
     "output_type": "stream",
     "text": [
      "72375\n",
      "144750\n"
     ]
    }
   ],
   "source": [
    "strat_sample_df = stratified_sample_df(newdf, 'CA', 0.5)\n",
    "strat_ind_df = strat_sample_df.drop(columns=['CA', 'PA', 'top_league'])\n",
    "strat_data = strat_ind_df.to_numpy()\n",
    "print(len(strat_sample_df))\n",
    "print(len(newdf))"
   ]
  },
  {
   "cell_type": "markdown",
   "id": "f35e567e-6917-46d0-ada7-27e401fbdc7e",
   "metadata": {},
   "source": [
    "## Sample comparison with original distribution "
   ]
  },
  {
   "cell_type": "code",
   "execution_count": 12,
   "id": "38173a2a-5ec4-41e1-b286-7066397c99f1",
   "metadata": {
    "scrolled": false
   },
   "outputs": [
    {
     "data": {
      "image/png": "[encoded data removed]",
      "text/plain": [
       "<Figure size 432x288 with 1 Axes>"
      ]
     },
     "metadata": {
      "needs_background": "light"
     },
     "output_type": "display_data"
    },
    {
     "data": {
      "image/png": "[encoded data removed]",
      "text/plain": [
       "<Figure size 432x288 with 1 Axes>"
      ]
     },
     "metadata": {
      "needs_background": "light"
     },
     "output_type": "display_data"
    },
    {
     "data": {
      "image/png": "[encoded data removed]",
      "text/plain": [
       "<Figure size 432x288 with 1 Axes>"
      ]
     },
     "metadata": {
      "needs_background": "light"
     },
     "output_type": "display_data"
    },
    {
     "data": {
      "image/png": "[encoded data removed]",
      "text/plain": [
       "<Figure size 432x288 with 1 Axes>"
      ]
     },
     "metadata": {
      "needs_background": "light"
     },
     "output_type": "display_data"
    },
    {
     "data": {
      "image/png": "[encoded data removed]",
      "text/plain": [
       "<Figure size 432x288 with 1 Axes>"
      ]
     },
     "metadata": {
      "needs_background": "light"
     },
     "output_type": "display_data"
    },
    {
     "data": {
      "image/png": "[encoded data removed]",
      "text/plain": [
       "<Figure size 432x288 with 1 Axes>"
      ]
     },
     "metadata": {
      "needs_background": "light"
     },
     "output_type": "display_data"
    },
    {
     "data": {
      "image/png": "[encoded data removed]",
      "text/plain": [
       "<Figure size 432x288 with 1 Axes>"
      ]
     },
     "metadata": {
      "needs_background": "light"
     },
     "output_type": "display_data"
    },
    {
     "data": {
      "image/png": "[encoded data removed]",
      "text/plain": [
       "<Figure size 432x288 with 1 Axes>"
      ]
     },
     "metadata": {
      "needs_background": "light"
     },
     "output_type": "display_data"
    },
    {
     "data": {
      "image/png": "[encoded data removed]",
      "text/plain": [
       "<Figure size 432x288 with 1 Axes>"
      ]
     },
     "metadata": {
      "needs_background": "light"
     },
     "output_type": "display_data"
    }
   ],
   "source": [
    "ax = newdf[['CA']].plot.hist(bins=20)\n",
    "ax = strat_sample_df[['CA']].plot.hist(bins=20)\n",
    "ax = sample_df[['CA']].plot.hist(bins=20)\n",
    "ax = newdf[['top_league']].plot.hist()\n",
    "ax = strat_sample_df[['top_league']].plot.hist()\n",
    "ax = sample_df[['top_league']].plot.hist()\n",
    "ax = newdf[['PA']].plot.hist(bins=20)\n",
    "ax = strat_sample_df[['PA']].plot.hist(bins=20)\n",
    "ax = sample_df[['PA']].plot.hist(bins=20)"
   ]
  },
  {
   "cell_type": "markdown",
   "id": "a3b8f54d-0aef-4357-af38-e391ded6c148",
   "metadata": {},
   "source": [
    "We can see from the comparisons are all similar with exception of the Pandas sample for Potential Ability which has a different distribution for this reason we will go with the Stratified Sample for the Mapper"
   ]
  },
  {
   "cell_type": "markdown",
   "id": "6f11f9b8-b0ef-4b22-a903-537745fd4c0a",
   "metadata": {},
   "source": [
    "# Set Up Data for KMapper"
   ]
  },
  {
   "cell_type": "code",
   "execution_count": 13,
   "id": "ef6dcf07-c1f9-453f-b1cf-eeb53bdc1dfe",
   "metadata": {},
   "outputs": [],
   "source": [
    "attribute_list = [strat_sample_df[attr].to_list() for attr in list(strat_sample_df.columns)]\n",
    "attribute_list_np = [strat_sample_df[attr].to_numpy() for attr in list(strat_sample_df.columns)]\n",
    "attribute_list_np = strat_sample_df.to_numpy()"
   ]
  },
  {
   "cell_type": "code",
   "execution_count": 14,
   "id": "96430bb8-1c4f-4218-afdc-83b7f7d3f63e",
   "metadata": {},
   "outputs": [
    {
     "data": {
      "text/plain": [
       "array([  1,   1,   1, ..., 179, 180, 195], dtype=int64)"
      ]
     },
     "execution_count": 14,
     "metadata": {},
     "output_type": "execute_result"
    }
   ],
   "source": [
    "pred_df = strat_sample_df[['CA', 'PA', 'top_league']]\n",
    "pred_data = np.array(pred_df['CA'])\n",
    "pred_data"
   ]
  },
  {
   "cell_type": "markdown",
   "id": "a4ccf28c-06c0-4fca-be43-5f17c0246674",
   "metadata": {},
   "source": [
    "# Create Mapper"
   ]
  },
  {
   "cell_type": "code",
   "execution_count": 27,
   "id": "46904c89-f372-4895-85b0-2930fec35365",
   "metadata": {},
   "outputs": [
    {
     "name": "stdout",
     "output_type": "stream",
     "text": [
      "KeplerMapper(verbose=1)\n",
      "..Composing projection pipeline of length 1:\n",
      "\tProjections: [0, 1]\n",
      "\tDistance matrices: False\n",
      "\tScalers: MinMaxScaler()\n",
      "..Projecting on data shaped (72375, 47)\n",
      "\n",
      "..Projecting data using: [0, 1]\n",
      "\n",
      "..Scaling with: MinMaxScaler()\n",
      "\n",
      "Mapping on data shaped (72375, 47) using lens shaped (72375, 2)\n",
      "\n",
      "Creating 100 hypercubes.\n",
      "\n",
      "Created 453 edges and 133 nodes in 0:00:33.167179.\n"
     ]
    }
   ],
   "source": [
    "# Initialize\n",
    "#Show 40, .65, 15\n",
    "#show 40, .7, 25\n",
    "#show 47, .8, 20\n",
    "#show 47, .8, 25\n",
    "#show 10, .4, 15, [0,1]\n",
    "#show 10, .4, 20, [0,1]\n",
    "mapper = km.KeplerMapper(verbose=1)\n",
    "\n",
    "# Fit to and transform the data\n",
    "projected_data = mapper.fit_transform(strat_data, projection=[0,1]) # X-Y axis\n",
    "\n",
    "# Create a cover with 10 elements\n",
    "cover = km.Cover(n_cubes=10, perc_overlap=0.4, limits=None, verbose=0)\n",
    "\n",
    "# Create dictionary called 'graph' with nodes, edges and meta-information\n",
    "graph = mapper.map(projected_data, strat_data, \n",
    "                   clusterer=sklearn.cluster.DBSCAN(algorithm='auto', eps=20, leaf_size=30, \n",
    "                                                    metric='euclidean', metric_params=None, min_samples=3, \n",
    "                                                    n_jobs=None, p=None), \n",
    "                   cover=cover, nerve=km.GraphNerve(min_intersection=1), precomputed=False, remove_duplicate_nodes=False)\n",
    "#Test"
   ]
  },
  {
   "cell_type": "markdown",
   "id": "222c8d6f-213a-4548-a719-a20241194d26",
   "metadata": {},
   "source": [
    "# Visualize Mapper"
   ]
  },
  {
   "cell_type": "code",
   "execution_count": 28,
   "id": "0fc90d96-8dea-4cbd-b4a5-d65d381aa0fd",
   "metadata": {},
   "outputs": [
    {
     "name": "stdout",
     "output_type": "stream",
     "text": [
      "Wrote visualization to: classifier_x1_6_new.html\n"
     ]
    },
    {
     "data": {
      "text/html": [
       "<style>\n",
       "        .container { width:100% !important; }\n",
       "        .output_scroll {height: 800px !important;}\n",
       "        </style>"
      ],
      "text/plain": [
       "<IPython.core.display.HTML object>"
      ]
     },
     "metadata": {},
     "output_type": "display_data"
    },
    {
     "name": "stderr",
     "output_type": "stream",
     "text": [
      "C:\\Users\\jacks\\AppData\\Roaming\\Python\\Python39\\site-packages\\IPython\\core\\display.py:724: UserWarning: Consider using IPython.display.IFrame instead\n",
      "  warnings.warn(\"Consider using IPython.display.IFrame instead\")\n"
     ]
    },
    {
     "data": {
      "text/html": [
       "<iframe src=classifier_x1_6_new.html width=100%% height=800 frameBorder=\"0\"></iframe>"
      ],
      "text/plain": [
       "<IPython.core.display.HTML object>"
      ]
     },
     "metadata": {},
     "output_type": "display_data"
    }
   ],
   "source": [
    "mapper.visualize(graph, path_html=\"classifier_x1_6_new.html\",\n",
    "                 title=\"classifiers\",\n",
    "                 custom_tooltips=pred_data,\n",
    "                 color_values=attribute_list_np,\n",
    "                 color_function_name=list(sample_df.columns)\n",
    "                )\n",
    "jupyter.display(path_html=\"classifier_x1_6_new.html\")"
   ]
  },
  {
   "cell_type": "markdown",
   "id": "ae686d12-9f72-459d-8e3a-db73d3d93a02",
   "metadata": {},
   "source": [
    "# Observations"
   ]
  },
  {
   "cell_type": "code",
   "execution_count": null,
   "id": "846d03a5-36d1-4f18-8fa9-b6e224eece77",
   "metadata": {},
   "outputs": [],
   "source": []
  }
 ],
 "metadata": {
  "kernelspec": {
   "display_name": "Python 3 (ipykernel)",
   "language": "python",
   "name": "python3"
  },
  "language_info": {
   "codemirror_mode": {
    "name": "ipython",
    "version": 3
   },
   "file_extension": ".py",
   "mimetype": "text/x-python",
   "name": "python",
   "nbconvert_exporter": "python",
   "pygments_lexer": "ipython3",
   "version": "3.9.10"
  }
 },
 "nbformat": 4,
 "nbformat_minor": 5
}
