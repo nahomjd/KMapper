{
 "cells": [
  {
   "cell_type": "markdown",
   "metadata": {
    "id": "vYtaamDoZ09i"
   },
   "source": [
    "## This is the 2nd project where we use Mapper to evaluate features for classification purposes\n",
    "\n",
    "The classification method is borrowed from scikit-learn.  Here it creates a synthetic data set and classifies data into two classes with values 0 and 1.  You will want to change random_state=0 option to a value greater than 0 to produce a unique data set.  Then you can use the options in the second cell or implement a different method to save your unique X and y that result from the classification.  I use 1000 points, 10 features, 3 significant features.  You will use 4000 points with 20 features, 6 of them significant.\n",
    "\n",
    "You will see I use a numpy function to save X and y.\n",
    "\n",
    "At the very end, I have different lines coloring the mapper graph by labels and by a projection to the 6th coordinate.  You will need to do this or something similar many times and ispect the results.\n",
    "\n",
    "Where to find your graph?  It depends on your setup but it can be either in the same directory as your notebook or in downloads, saved as an HTML file with the name displayed in the last cell here.  If you want to save all of them or some of them for the final report, you need to change the name of that file in the last cell or else you will be overwriting the HTML file.\n"
   ]
  },
  {
   "cell_type": "code",
   "execution_count": 2,
   "metadata": {
    "colab": {
     "base_uri": "https://localhost:8080/"
    },
    "id": "ilyKFL2jZ09k",
    "outputId": "be7defed-d8fb-4926-c1b1-404b8b62f468"
   },
   "outputs": [
    {
     "name": "stdout",
     "output_type": "stream",
     "text": [
      "Collecting kmapper\n",
      "  Downloading kmapper-2.0.1-py3-none-any.whl (125 kB)\n",
      "     -------------------------------------- 126.0/126.0 KB 2.5 MB/s eta 0:00:00\n",
      "Requirement already satisfied: scikit-learn in c:\\users\\jacks\\appdata\\local\\programs\\python\\python310\\lib\\site-packages (from kmapper) (1.1.3)\n",
      "Requirement already satisfied: numpy in c:\\users\\jacks\\appdata\\local\\programs\\python\\python310\\lib\\site-packages (from kmapper) (1.22.3)\n",
      "Requirement already satisfied: scipy in c:\\users\\jacks\\appdata\\local\\programs\\python\\python310\\lib\\site-packages (from kmapper) (1.8.0)\n",
      "Requirement already satisfied: Jinja2 in c:\\users\\jacks\\appdata\\local\\programs\\python\\python310\\lib\\site-packages (from kmapper) (3.1.1)\n",
      "Requirement already satisfied: MarkupSafe>=2.0 in c:\\users\\jacks\\appdata\\local\\programs\\python\\python310\\lib\\site-packages (from Jinja2->kmapper) (2.1.1)\n",
      "Requirement already satisfied: threadpoolctl>=2.0.0 in c:\\users\\jacks\\appdata\\local\\programs\\python\\python310\\lib\\site-packages (from scikit-learn->kmapper) (3.1.0)\n",
      "Requirement already satisfied: joblib>=1.0.0 in c:\\users\\jacks\\appdata\\local\\programs\\python\\python310\\lib\\site-packages (from scikit-learn->kmapper) (1.2.0)\n",
      "Installing collected packages: kmapper\n",
      "Successfully installed kmapper-2.0.1\n"
     ]
    },
    {
     "name": "stderr",
     "output_type": "stream",
     "text": [
      "WARNING: You are using pip version 22.0.4; however, version 22.3.1 is available.\n",
      "You should consider upgrading via the 'C:\\Users\\jacks\\AppData\\Local\\Programs\\Python\\Python310\\python.exe -m pip install --upgrade pip' command.\n"
     ]
    }
   ],
   "source": [
    "from sklearn.ensemble import RandomForestClassifier\n",
    "from sklearn.datasets import make_classification\n",
    "\n",
    "import numpy\n",
    "\n",
    "!pip install kmapper\n"
   ]
  },
  {
   "cell_type": "code",
   "execution_count": 3,
   "metadata": {
    "colab": {
     "base_uri": "https://localhost:8080/"
    },
    "id": "7HVYTfr3Z09l",
    "outputId": "ce9b94fc-4ceb-4ca8-96d7-ae80c590ab11"
   },
   "outputs": [
    {
     "name": "stdout",
     "output_type": "stream",
     "text": [
      "[0.14516268 0.48310027 0.13551911 0.05403518 0.02927345 0.01353266\n",
      " 0.04081483 0.06222156 0.01171563 0.02462463]\n",
      "[1]\n"
     ]
    }
   ],
   "source": [
    "make_new = True\n",
    "if make_new:\n",
    "    X, y = make_classification(n_samples=1000, n_features=10,\n",
    "                           n_informative=3, n_redundant=0,\n",
    "                           random_state=0, shuffle=False)\n",
    "    numpy.savetxt(\"my-data-new.csv\", X, delimiter=\",\")\n",
    "    numpy.savetxt(\"my-labels-new.csv\", y, delimiter=\",\")\n",
    "else:\n",
    "    X = numpy.loadtxt(\"my-data.csv\", delimiter=\",\") #rename new file to this in order to reuse\n",
    "    y = numpy.loadtxt(\"my-labels.csv\", delimiter=\",\")\n",
    "clf = RandomForestClassifier(n_estimators=100, max_depth=2,\n",
    "                             random_state=0)\n",
    "clf.fit(X, y) \n",
    "print(clf.feature_importances_)\n",
    "print(clf.predict([[0,0,0,0,0,0,0,0,0,0]]))"
   ]
  },
  {
   "cell_type": "code",
   "execution_count": 4,
   "metadata": {
    "id": "WAwLmg0nZ09m"
   },
   "outputs": [],
   "source": [
    "\n",
    "\n",
    "#print(len(X[:,0]))\n",
    "#print(X[:,0])\n",
    "\n",
    "\n"
   ]
  },
  {
   "cell_type": "code",
   "execution_count": 5,
   "metadata": {
    "colab": {
     "base_uri": "https://localhost:8080/"
    },
    "id": "N6EoarRsZ09m",
    "outputId": "99cf3857-630e-4c18-f25f-b4c52f6f321d",
    "scrolled": true
   },
   "outputs": [
    {
     "name": "stdout",
     "output_type": "stream",
     "text": [
      "(1000, 10)\n",
      "DescribeResult(nobs=1000, minmax=(array([-4.5749881 , -2.06932092, -4.06048742, -2.6782758 , -3.58934539,\n",
      "       -3.87065897, -3.82494015, -2.93970031, -3.13282637, -3.00311952]), array([4.27660871, 3.09640507, 3.69577876, 2.80623668, 3.21123063,\n",
      "       2.87609985, 2.884689  , 3.20613751, 2.91521329, 3.21930598])), mean=array([ 0.06914825,  0.49246796,  0.02263324,  0.00961399, -0.03413469,\n",
      "        0.00100382, -0.00351453,  0.02393157, -0.03175737, -0.01053309]), variance=array([2.10527179, 1.19026868, 1.90199164, 1.02932466, 1.0298375 ,\n",
      "       1.02443416, 1.00670683, 0.94991367, 0.98762807, 1.01194854]), skewness=array([ 0.08914675, -0.24114634, -0.25795991,  0.0006565 ,  0.01287981,\n",
      "       -0.10684589, -0.09133445,  0.08969434,  0.01659607,  0.09117893]), kurtosis=array([-0.39806029, -0.77886409, -0.37924218, -0.3663095 ,  0.1523958 ,\n",
      "        0.24724232,  0.12847653,  0.02526571, -0.02540803,  0.05350434]))\n"
     ]
    }
   ],
   "source": [
    "print(X.shape)\n",
    "#print(X)\n",
    "from scipy import stats\n",
    "print(stats.describe(X))"
   ]
  },
  {
   "cell_type": "code",
   "execution_count": 6,
   "metadata": {
    "colab": {
     "base_uri": "https://localhost:8080/"
    },
    "id": "ZfDyrY9OZ09n",
    "outputId": "2bf14438-d9ee-4afb-c886-e56a9ffc7f28"
   },
   "outputs": [
    {
     "name": "stdout",
     "output_type": "stream",
     "text": [
      "[0 0 0 0 0 0 0 0 0 0 0 0 0 0 0 0 0 0 0 0 0 0 0 0 0 0 0 0 0 0 0 0 0 0 0 0 0\n",
      " 0 0 0 0 0 0 0 0 0 0 0 0 0 0 0 0 0 0 0 0 0 0 0 0 0 0 0 0 0 0 0 0 0 0 0 0 0\n",
      " 0 0 0 0 0 0 0 0 0 0 0 0 0 0 0 0 0 0 0 0 0 0 0 0 0 0 0 0 0 0 0 0 0 0 0 0 0\n",
      " 0 0 0 0 0 0 0 0 0 0 0 0 0 0 0 0 0 0 0 0 0 0 0 0 0 0 0 0 0 0 0 0 0 0 0 0 0\n",
      " 0 0 0 0 0 0 0 0 0 0 0 0 0 0 0 0 0 0 0 0 0 0 0 0 0 0 0 0 0 0 0 0 0 0 0 0 0\n",
      " 0 0 0 0 0 0 0 0 0 0 0 0 0 0 0 0 0 0 0 0 0 0 0 0 0 0 0 0 0 0 0 0 0 0 0 0 0\n",
      " 0 0 0 1 0 0 0 1 0 0 0 0 0 0 0 0 0 0 0 0 0 0 0 0 0 0 0 0 1 1 1 1 1 1 1 1 1\n",
      " 1 1 1 1 1 1 1 1 1 1 1 1 1 1 1 1 1 1 1 1 1 1 1 1 1 1 1 1 1 1 1 1 1 1 1 1 1\n",
      " 1 1 1 1 1 1 1 1 1 1 1 1 1 1 1 1 1 1 1 1 1 1 1 1 1 1 1 1 1 1 1 1 1 1 1 1 1\n",
      " 1 1 1 1 1 1 1 1 1 1 1 1 1 1 1 1 1 1 1 1 1 1 1 1 1 1 1 1 1 1 1 1 1 1 1 1 1\n",
      " 1 1 1 1 1 1 1 1 1 1 1 1 1 1 1 1 1 0 1 1 1 1 1 1 1 1 1 1 1 1 1 1 1 1 1 1 1\n",
      " 1 1 1 1 1 1 1 1 1 1 1 1 1 1 1 1 1 1 1 1 1 1 1 1 1 1 1 1 1 1 1 1 1 1 1 1 1\n",
      " 1 1 1 1 1 1 1 1 1 1 1 1 1 1 1 1 1 1 1 1 1 1 1 1 1 1 1 1 1 1 1 1 1 1 1 1 1\n",
      " 1 1 1 1 1 1 1 1 1 1 1 1 1 1 1 1 1 1 1 0 0 0 0 0 0 0 0 0 0 0 0 0 0 0 0 0 0\n",
      " 0 0 0 0 0 0 0 0 0 0 0 0 0 0 0 0 0 0 0 0 0 0 0 0 0 0 0 0 0 0 0 0 0 0 0 0 0\n",
      " 0 0 0 0 0 0 0 0 0 0 0 0 0 0 0 0 0 0 0 0 0 0 0 0 0 0 0 0 0 0 0 0 0 0 0 0 0\n",
      " 0 0 0 0 0 0 0 0 0 0 0 0 0 0 0 0 0 0 0 0 0 0 0 0 0 0 0 0 0 0 0 0 0 0 0 0 0\n",
      " 0 0 0 0 0 0 0 0 0 0 0 0 0 0 0 0 0 0 0 0 0 0 0 0 0 0 0 0 0 0 0 0 0 0 0 0 0\n",
      " 0 0 0 0 0 0 0 0 0 0 0 0 0 0 0 0 0 0 0 0 0 0 0 0 0 0 0 0 0 0 0 0 0 0 0 0 0\n",
      " 0 0 0 0 0 0 0 0 0 0 0 0 0 0 0 0 0 0 0 0 0 0 0 0 0 0 0 0 0 0 0 0 0 0 0 0 0\n",
      " 0 0 0 0 0 0 0 0 0 0 1 1 1 1 1 1 1 1 1 1 1 1 1 1 1 1 1 1 1 1 1 1 1 1 1 1 1\n",
      " 1 1 1 1 1 1 1 1 1 1 1 1 1 1 1 1 1 1 1 1 1 1 1 1 1 1 1 1 1 1 1 1 1 1 1 1 1\n",
      " 1 1 1 1 0 1 1 1 1 1 1 1 1 1 1 1 1 1 1 1 1 1 1 1 1 1 1 1 1 1 1 1 1 1 1 1 1\n",
      " 1 1 1 1 1 1 1 1 1 1 1 1 1 1 1 1 1 1 1 1 1 1 1 1 1 1 1 1 1 1 1 1 1 1 1 1 1\n",
      " 1 1 1 1 1 1 1 1 1 1 1 1 1 1 1 1 1 1 1 1 1 1 1 1 1 1 1 1 1 1 1 1 1 1 1 1 1\n",
      " 1 1 1 1 1 1 1 1 1 1 1 1 1 1 1 1 1 1 1 1 1 1 1 1 1 1 1 1 1 1 1 1 1 1 1 1 1\n",
      " 1 1 1 1 1 1 1 1 1 1 1 1 1 1 1 1 1 1 1 1 1 1 1 1 1 1 1 1 1 1 1 1 1 1 1 1 1\n",
      " 1]\n"
     ]
    }
   ],
   "source": [
    "print(y)"
   ]
  },
  {
   "cell_type": "code",
   "execution_count": 15,
   "metadata": {
    "colab": {
     "base_uri": "https://localhost:8080/",
     "height": 528
    },
    "id": "t7kEgOSqZ09n",
    "outputId": "2f1108e6-e0ad-48f5-9c13-14016aaa74bf"
   },
   "outputs": [
    {
     "name": "stdout",
     "output_type": "stream",
     "text": [
      "KeplerMapper(verbose=1)\n",
      "..Composing projection pipeline of length 1:\n",
      "\tProjections: [0]\n",
      "\tDistance matrices: False\n",
      "\tScalers: MinMaxScaler()\n",
      "..Projecting on data shaped (1000, 10)\n",
      "\n",
      "..Projecting data using: [0]\n",
      "\n",
      "..Scaling with: MinMaxScaler()\n",
      "\n",
      "***\n",
      "DescribeResult(nobs=1000, minmax=(array([0.]), array([1.])), mean=array([0.5246665]), variance=array([0.02686983]), skewness=array([0.08914675]), kurtosis=array([-0.39806029]))\n",
      "***\n",
      "Mapping on data shaped (1000, 10) using lens shaped (1000, 1)\n",
      "\n",
      "Creating 10 hypercubes.\n",
      "\n",
      "Created 10 edges and 11 nodes in 0:00:00.023519.\n",
      "{'nodes': defaultdict(<class 'list'>, {'cube1_cluster0': [260, 291, 408], 'cube1_cluster1': [516, 526, 546, 562, 576, 583, 585, 590, 609, 637, 640, 657, 678, 685, 686, 739, 744, 747], 'cube2_cluster0': [49, 250, 260, 265, 266, 277, 279, 284, 289, 291, 304, 305, 317, 325, 327, 336, 337, 341, 342, 355, 362, 364, 377, 378, 382, 388, 396, 403, 404, 406, 408, 418, 435, 436, 448, 456, 464, 466, 467, 470, 476, 485, 486, 487, 497, 499], 'cube2_cluster1': [501, 504, 511, 514, 526, 546, 551, 556, 557, 561, 564, 577, 581, 583, 591, 609, 612, 614, 623, 624, 626, 628, 631, 633, 635, 637, 639, 640, 650, 652, 657, 663, 671, 676, 680, 682, 686, 711, 718, 720, 731, 738, 739, 741, 744, 746], 'cube3_cluster0': [9, 37, 48, 138, 203, 228, 250, 252, 253, 254, 255, 257, 259, 261, 263, 264, 265, 267, 268, 269, 271, 272, 273, 275, 276, 278, 281, 282, 283, 287, 289, 293, 295, 296, 297, 298, 302, 303, 308, 310, 311, 313, 314, 316, 322, 325, 326, 327, 328, 329, 332, 334, 338, 339, 341, 342, 346, 347, 348, 349, 351, 353, 354, 355, 357, 358, 360, 361, 363, 364, 367, 369, 374, 375, 377, 381, 382, 389, 390, 392, 393, 394, 395, 396, 397, 401, 404, 406, 407, 414, 416, 419, 420, 424, 429, 431, 434, 435, 437, 439, 442, 446, 447, 448, 450, 452, 458, 460, 461, 462, 463, 466, 467, 468, 470, 471, 472, 475, 476, 477, 486, 487, 489, 490, 491, 493, 496, 497, 498, 499, 501, 502, 503, 510, 511, 512, 514, 515, 517, 518, 524, 527, 528, 530, 532, 534, 535, 536, 538, 542, 544, 548, 550, 553, 555, 557, 558, 559, 563, 564, 572, 575, 577, 581, 582, 584, 586, 591, 596, 598, 600, 602, 603, 606, 607, 608, 614, 616, 618, 621, 623, 625, 627, 632, 633, 634, 636, 638, 639, 649, 650, 665, 667, 668, 669, 670, 672, 673, 674, 675, 677, 679, 682, 688, 690, 691, 692, 693, 695, 697, 698, 699, 702, 706, 707, 711, 720, 721, 726, 730, 731, 741, 743, 748, 965], 'cube4_cluster0': [1, 3, 7, 25, 29, 31, 33, 53, 62, 72, 75, 93, 94, 100, 115, 121, 125, 145, 157, 173, 180, 191, 194, 196, 210, 213, 225, 235, 244, 251, 252, 255, 257, 258, 262, 263, 267, 270, 271, 272, 273, 274, 276, 280, 281, 282, 283, 285, 286, 287, 288, 290, 292, 293, 294, 295, 297, 298, 299, 300, 302, 303, 306, 307, 309, 310, 312, 314, 316, 318, 319, 320, 321, 324, 328, 330, 331, 333, 335, 339, 340, 343, 344, 348, 349, 350, 352, 356, 357, 358, 359, 360, 361, 363, 365, 366, 367, 369, 370, 371, 375, 376, 379, 380, 384, 385, 387, 389, 391, 392, 393, 394, 398, 399, 405, 407, 409, 410, 411, 412, 415, 420, 421, 422, 423, 425, 426, 427, 428, 430, 432, 433, 437, 438, 440, 441, 443, 444, 445, 449, 450, 451, 452, 453, 454, 455, 457, 458, 462, 463, 465, 468, 469, 471, 472, 473, 474, 478, 479, 480, 481, 483, 484, 488, 491, 493, 495, 498, 500, 505, 512, 520, 523, 524, 530, 538, 539, 540, 541, 543, 547, 548, 549, 550, 552, 563, 565, 566, 567, 568, 569, 570, 571, 573, 574, 575, 580, 584, 588, 589, 593, 603, 606, 607, 611, 613, 615, 616, 617, 618, 619, 620, 630, 632, 634, 636, 638, 642, 643, 644, 645, 646, 647, 649, 653, 655, 659, 662, 664, 668, 669, 674, 675, 677, 683, 688, 694, 696, 698, 699, 700, 704, 705, 706, 708, 710, 713, 714, 717, 719, 721, 723, 724, 728, 729, 730, 732, 733, 734, 736, 737, 740, 742, 752, 757, 771, 774, 812, 832, 834, 835, 843, 844, 846, 875, 881, 886, 889, 893, 895, 896, 900, 903, 915, 922, 928, 935, 940, 952, 959, 981, 982, 993], 'cube5_cluster0': [0, 2, 3, 6, 7, 8, 11, 17, 18, 19, 21, 25, 26, 27, 28, 30, 31, 32, 38, 41, 45, 57, 62, 66, 73, 85, 94, 95, 96, 97, 98, 99, 100, 111, 114, 115, 121, 125, 135, 139, 140, 141, 144, 145, 147, 149, 151, 155, 156, 163, 168, 170, 174, 183, 184, 189, 196, 197, 204, 208, 212, 215, 217, 218, 220, 223, 230, 233, 235, 238, 240, 241, 244, 248, 249, 256, 262, 270, 288, 301, 306, 315, 323, 330, 343, 344, 345, 356, 359, 368, 372, 373, 376, 383, 384, 386, 387, 398, 400, 402, 409, 410, 413, 417, 422, 444, 473, 474, 482, 492, 494, 505, 508, 509, 519, 520, 522, 525, 529, 533, 537, 539, 545, 547, 554, 568, 571, 578, 579, 580, 587, 588, 592, 594, 595, 597, 599, 601, 604, 610, 611, 615, 622, 651, 653, 654, 656, 659, 660, 664, 666, 689, 701, 703, 705, 709, 712, 714, 715, 716, 722, 723, 724, 725, 729, 733, 735, 736, 745, 749, 750, 752, 753, 757, 761, 763, 767, 769, 773, 774, 777, 782, 783, 784, 785, 787, 789, 790, 795, 797, 798, 800, 806, 807, 808, 810, 811, 812, 824, 825, 826, 829, 831, 834, 839, 840, 841, 842, 843, 844, 847, 848, 851, 853, 854, 855, 857, 858, 863, 867, 868, 871, 872, 873, 875, 876, 877, 881, 886, 887, 888, 889, 890, 892, 893, 894, 895, 896, 897, 899, 901, 902, 903, 904, 908, 910, 914, 915, 919, 920, 921, 931, 933, 934, 935, 938, 940, 941, 944, 948, 949, 953, 957, 958, 959, 961, 966, 967, 968, 973, 977, 981, 982, 984, 987, 988, 991, 998], 'cube6_cluster0': [4, 5, 10, 11, 12, 13, 14, 16, 18, 19, 21, 24, 26, 27, 28, 34, 36, 40, 41, 42, 44, 54, 56, 58, 59, 63, 64, 67, 69, 70, 71, 77, 78, 79, 81, 85, 86, 88, 90, 91, 96, 98, 103, 107, 108, 109, 112, 116, 117, 118, 119, 122, 124, 126, 131, 132, 137, 139, 142, 147, 148, 151, 152, 153, 156, 158, 159, 160, 162, 163, 165, 167, 171, 174, 175, 177, 178, 179, 181, 187, 188, 193, 199, 200, 201, 202, 205, 209, 211, 215, 216, 217, 218, 224, 226, 233, 234, 236, 237, 238, 241, 242, 243, 245, 249, 368, 372, 417, 507, 513, 519, 521, 529, 531, 578, 594, 601, 605, 629, 641, 648, 660, 661, 684, 687, 712, 725, 727, 750, 751, 753, 754, 756, 758, 759, 760, 761, 762, 763, 764, 765, 769, 772, 773, 775, 776, 777, 779, 780, 781, 782, 784, 785, 792, 793, 794, 795, 797, 798, 799, 800, 801, 802, 803, 805, 806, 807, 808, 811, 813, 814, 815, 816, 820, 823, 826, 828, 829, 830, 831, 833, 838, 839, 845, 847, 848, 849, 850, 851, 852, 855, 857, 862, 863, 864, 865, 866, 870, 871, 873, 874, 877, 878, 879, 883, 884, 887, 891, 894, 897, 898, 904, 908, 909, 911, 913, 917, 918, 919, 921, 923, 925, 926, 927, 929, 931, 939, 942, 943, 945, 947, 950, 953, 954, 955, 957, 958, 962, 963, 966, 967, 968, 969, 970, 971, 973, 975, 976, 977, 978, 980, 983, 984, 986, 992, 995, 997, 999], 'cube7_cluster0': [4, 5, 12, 20, 22, 23, 24, 36, 39, 42, 43, 46, 47, 51, 55, 59, 60, 63, 68, 70, 76, 77, 78, 80, 81, 82, 83, 84, 87, 88, 89, 90, 92, 101, 106, 109, 110, 117, 119, 120, 122, 123, 126, 130, 133, 134, 136, 143, 146, 150, 160, 161, 164, 166, 176, 177, 179, 182, 186, 188, 190, 195, 198, 199, 200, 202, 206, 207, 209, 219, 224, 227, 229, 231, 232, 239, 243, 507, 513, 521, 560, 605, 658, 661, 681, 751, 758, 764, 766, 768, 770, 772, 778, 781, 786, 791, 792, 801, 802, 804, 805, 809, 813, 814, 818, 819, 821, 822, 827, 836, 837, 838, 845, 856, 859, 861, 866, 869, 880, 882, 885, 898, 905, 911, 912, 916, 923, 924, 926, 929, 930, 932, 936, 937, 945, 946, 950, 951, 956, 960, 962, 963, 964, 969, 971, 972, 974, 985, 986, 989, 990, 994, 995, 999], 'cube8_cluster0': [15, 35, 39, 50, 51, 52, 55, 61, 65, 68, 80, 82, 84, 87, 89, 101, 102, 104, 105, 110, 113, 128, 150, 154, 169, 176, 182, 186, 190, 207, 214, 221, 246, 247, 560, 658, 755, 788, 796, 804, 809, 819, 856, 859, 860, 869, 906, 907, 912, 936, 937, 946, 960, 974, 979, 996], 'cube9_cluster0': [61, 74, 113, 127, 129, 154, 172, 185, 192, 214, 796]}), 'links': defaultdict(<class 'list'>, {'cube1_cluster0': ['cube2_cluster0'], 'cube1_cluster1': ['cube2_cluster1'], 'cube2_cluster0': ['cube3_cluster0'], 'cube2_cluster1': ['cube3_cluster0'], 'cube3_cluster0': ['cube4_cluster0'], 'cube4_cluster0': ['cube5_cluster0'], 'cube5_cluster0': ['cube6_cluster0'], 'cube6_cluster0': ['cube7_cluster0'], 'cube7_cluster0': ['cube8_cluster0'], 'cube8_cluster0': ['cube9_cluster0']}), 'simplices': [['cube1_cluster0'], ['cube1_cluster1'], ['cube2_cluster0'], ['cube2_cluster1'], ['cube3_cluster0'], ['cube4_cluster0'], ['cube5_cluster0'], ['cube6_cluster0'], ['cube7_cluster0'], ['cube8_cluster0'], ['cube9_cluster0'], ['cube1_cluster0', 'cube2_cluster0'], ['cube1_cluster1', 'cube2_cluster1'], ['cube2_cluster0', 'cube3_cluster0'], ['cube2_cluster1', 'cube3_cluster0'], ['cube3_cluster0', 'cube4_cluster0'], ['cube4_cluster0', 'cube5_cluster0'], ['cube5_cluster0', 'cube6_cluster0'], ['cube6_cluster0', 'cube7_cluster0'], ['cube7_cluster0', 'cube8_cluster0'], ['cube8_cluster0', 'cube9_cluster0']], 'meta_data': {'projection': '[0]', 'n_cubes': 10, 'perc_overlap': 0.3, 'clusterer': 'DBSCAN(eps=3.5, min_samples=3)', 'scaler': 'MinMaxScaler()'}, 'meta_nodes': defaultdict(<class 'list'>, {})}\n",
      "Wrote visualization to: classifier_x1.html\n"
     ]
    },
    {
     "data": {
      "text/html": [
       "<style>\n",
       "        .container { width:100% !important; }\n",
       "        .output_scroll {height: 800px !important;}\n",
       "        </style>"
      ],
      "text/plain": [
       "<IPython.core.display.HTML object>"
      ]
     },
     "metadata": {},
     "output_type": "display_data"
    },
    {
     "name": "stderr",
     "output_type": "stream",
     "text": [
      "C:\\Users\\jacks\\AppData\\Local\\Programs\\Python\\Python310\\lib\\site-packages\\IPython\\core\\display.py:419: UserWarning: Consider using IPython.display.IFrame instead\n",
      "  warnings.warn(\"Consider using IPython.display.IFrame instead\")\n"
     ]
    },
    {
     "data": {
      "text/html": [
       "<iframe src=classifier_x1.html width=100%% height=800 frameBorder=\"0\"></iframe>"
      ],
      "text/plain": [
       "<IPython.core.display.HTML object>"
      ]
     },
     "metadata": {},
     "output_type": "display_data"
    }
   ],
   "source": [
    "# matplotlib inline\n",
    "import matplotlib\n",
    "import sklearn\n",
    "from kmapper import jupyter\n",
    "\n",
    "# Import the class\n",
    "import kmapper as km\n",
    "\n",
    "# Some sample data\n",
    "from sklearn import datasets\n",
    "#data, labels = datasets.make_circles(n_samples=5000, noise=0.03, factor=0.3)\n",
    "\n",
    "# Initialize\n",
    "mapper = km.KeplerMapper(verbose=1)\n",
    "\n",
    "# Fit to and transform the data\n",
    "projected_data = mapper.fit_transform(X, projection=[0]) # X-Y axis\n",
    "\n",
    "print(\"***\")\n",
    "print(stats.describe(projected_data))\n",
    "print(\"***\")\n",
    "\n",
    "# Create dictionary called 'graph' with nodes, edges and meta-information\n",
    "graph = mapper.map(projected_data, X, \n",
    "                   clusterer=sklearn.cluster.DBSCAN(algorithm='auto', eps=3.5, leaf_size=30, \n",
    "                                                    metric='euclidean', metric_params=None, min_samples=3, \n",
    "                                                    n_jobs=None, p=None), \n",
    "                   cover=km.Cover(n_cubes=10, perc_overlap=0.3, limits=None, verbose=0), \n",
    "                   nerve=km.GraphNerve(min_intersection=1), precomputed=False, remove_duplicate_nodes=False)\n",
    "\n",
    "print(graph)\n",
    "\n",
    "# Visualize it\n",
    "mapper.visualize(graph, path_html=\"classifier_x1.html\",\n",
    "                 title=\"classifiers\",\n",
    "                 #color_function=y, # y is the classification label light=0 dark=1\n",
    "                 #color_function=X[:,5] # coloring by the 6th coordinate projection\n",
    "                )\n",
    "jupyter.display(path_html=\"classifier_x1.html\")\n"
   ]
  },
  {
   "cell_type": "code",
   "execution_count": null,
   "metadata": {
    "id": "tIEoWUK2n-nx"
   },
   "outputs": [],
   "source": []
  },
  {
   "cell_type": "code",
   "execution_count": null,
   "metadata": {
    "id": "qGxnhF2rZ09o"
   },
   "outputs": [],
   "source": []
  }
 ],
 "metadata": {
  "colab": {
   "provenance": []
  },
  "gpuClass": "standard",
  "kernelspec": {
   "display_name": "Python 3 (ipykernel)",
   "language": "python",
   "name": "python3"
  },
  "language_info": {
   "codemirror_mode": {
    "name": "ipython",
    "version": 3
   },
   "file_extension": ".py",
   "mimetype": "text/x-python",
   "name": "python",
   "nbconvert_exporter": "python",
   "pygments_lexer": "ipython3",
   "version": "3.10.4"
  }
 },
 "nbformat": 4,
 "nbformat_minor": 4
}
